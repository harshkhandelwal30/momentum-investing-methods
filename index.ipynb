{
 "cells": [
  {
   "cell_type": "code",
   "execution_count": 5,
   "id": "e84f0fd7",
   "metadata": {},
   "outputs": [],
   "source": [
    "import numpy as np\n",
    "import pandas as pd\n",
    "\n",
    "def calculate_cagr(cumulative_returns: pd.Series) -> float:\n",
    "    n_years = (cumulative_returns.index[-1] - cumulative_returns.index[0]).days / 365.25\n",
    "    ending_value = cumulative_returns.iloc[-1]\n",
    "    return ending_value ** (1 / n_years) - 1\n",
    "\n",
    "\n",
    "def max_drawdown(cumulative_returns: pd.Series) -> float:\n",
    "    peak = cumulative_returns.cummax()\n",
    "    drawdowns = (cumulative_returns - peak) / peak\n",
    "    return abs(drawdowns.min())\n",
    "\n",
    "\n",
    "def annual_volatility(returns: pd.Series, periods_per_year: int = 12) -> float:\n",
    "    return returns.std(ddof=1) * np.sqrt(periods_per_year)\n",
    "\n",
    "\n",
    "def sharpe_ratio(returns: pd.Series, risk_free_rate: float = 0.05, periods_per_year: int = 12) -> float:\n",
    "    rf_per_period = risk_free_rate / periods_per_year\n",
    "    excess_ret = returns - rf_per_period\n",
    "    ann_ex_ret = excess_ret.mean() * periods_per_year\n",
    "    ann_vol = annual_volatility(returns, periods_per_year)\n",
    "    return ann_ex_ret / ann_vol\n",
    "\n",
    "\n",
    "def sortino_ratio(returns: pd.Series, risk_free_rate: float = 0.05, periods_per_year: int = 12) -> float:\n",
    "    rf_per_period = risk_free_rate / periods_per_year\n",
    "    excess_ret = returns - rf_per_period\n",
    "    downside = returns[returns < rf_per_period]\n",
    "    downside_std = downside.std(ddof=1) if len(downside) > 1 else np.nan\n",
    "    ann_ex_ret = excess_ret.mean() * periods_per_year\n",
    "    ann_down_std = downside_std * np.sqrt(periods_per_year)\n",
    "    return ann_ex_ret / ann_down_std\n",
    "\n",
    "\n",
    "def calmar_ratio(cumulative_returns: pd.Series, risk_free_rate: float = 0.05) -> float:\n",
    "    cagr = calculate_cagr(cumulative_returns)\n",
    "    mdd = max_drawdown(cumulative_returns)\n",
    "    return cagr / mdd if mdd != 0 else np.nan\n"
   ]
  },
  {
   "cell_type": "code",
   "execution_count": 6,
   "id": "944f1d40",
   "metadata": {},
   "outputs": [],
   "source": [
    "import pandas as pd\n",
    "import yfinance as yf\n",
    "from tqdm import tqdm\n",
    "import matplotlib.pyplot as plt"
   ]
  },
  {
   "cell_type": "code",
   "execution_count": 7,
   "id": "48fbb0d3",
   "metadata": {},
   "outputs": [],
   "source": [
    "no_of_stocks = 10"
   ]
  },
  {
   "cell_type": "code",
   "execution_count": 9,
   "id": "ad0385bd",
   "metadata": {},
   "outputs": [
    {
     "name": "stdout",
     "output_type": "stream",
     "text": [
      "[datetime.date(2025, 3, 28), datetime.date(2024, 9, 30), datetime.date(2024, 3, 28), datetime.date(2023, 7, 13), datetime.date(2022, 9, 30), datetime.date(2022, 3, 31), datetime.date(2021, 3, 31), datetime.date(2020, 9, 25), datetime.date(2020, 7, 31), datetime.date(2020, 3, 19), datetime.date(2019, 9, 27), datetime.date(2019, 3, 29), datetime.date(2018, 9, 28), datetime.date(2018, 4, 2), datetime.date(2017, 9, 29), datetime.date(2017, 3, 31), datetime.date(2016, 4, 1)]\n"
     ]
    }
   ],
   "source": [
    "#excel file\n",
    "df = pd.read_excel(\"nifty50_constituents.xlsx\", sheet_name=0)\n",
    "\n",
    "cols = df.columns.tolist()\n",
    "\n",
    "dates = []\n",
    "for col in cols:\n",
    "    try:\n",
    "        # pandas will parse strings like '2024-09-30 00:00:00'\n",
    "        dt = pd.to_datetime(col)\n",
    "        dates.append(dt.date())      \n",
    "    except (ValueError, TypeError):\n",
    "        continue\n",
    "\n",
    "print(dates)\n"
   ]
  },
  {
   "cell_type": "code",
   "execution_count": 10,
   "id": "3a8b1285",
   "metadata": {},
   "outputs": [
    {
     "name": "stdout",
     "output_type": "stream",
     "text": [
      "Empty DataFrame\n",
      "Columns: []\n",
      "Index: [2016-04-01 00:00:00, 2016-04-02 00:00:00, 2016-04-03 00:00:00, 2016-04-04 00:00:00, 2016-04-05 00:00:00]\n",
      "Empty DataFrame\n",
      "Columns: []\n",
      "Index: [2025-03-24 00:00:00, 2025-03-25 00:00:00, 2025-03-26 00:00:00, 2025-03-27 00:00:00, 2025-03-28 00:00:00]\n"
     ]
    }
   ],
   "source": [
    "import pandas as pd\n",
    "from datetime import date\n",
    "\n",
    "df_const = pd.read_excel(\"nifty50_constituents.xlsx\", sheet_name=0)\n",
    "cols = df_const.columns.tolist()\n",
    "\n",
    "rebalance_dates = []\n",
    "for col in cols:\n",
    "    try:\n",
    "        dt = pd.to_datetime(col)\n",
    "        rebalance_dates.append(dt.date())\n",
    "    except (ValueError, TypeError):\n",
    "        continue\n",
    "\n",
    "#range of date for backtest\n",
    "start_date = date(2016, 4, 1)\n",
    "end_date   = max(rebalance_dates)   # last rebalance date\n",
    "\n",
    "#date index\n",
    "full_index = pd.date_range(start=start_date, end=end_date, freq=\"D\")\n",
    "\n",
    "df_all_dates = pd.DataFrame(index=full_index)\n",
    "\n",
    "df_all_dates.index.name = \"date\"\n",
    "\n",
    "print(df_all_dates.head())\n",
    "print(df_all_dates.tail())\n"
   ]
  },
  {
   "cell_type": "code",
   "execution_count": 11,
   "id": "876a4eb4",
   "metadata": {},
   "outputs": [
    {
     "name": "stdout",
     "output_type": "stream",
     "text": [
      "2025-03-28: ['ADANIENT.NS', 'ADANIPORTS.NS', 'APOLLOHOSP.NS', 'ASIANPAINT.NS', 'AXISBANK.NS']... (50 total)\n",
      "2024-09-30: ['ADANIENT.NS', 'ADANIPORTS.NS', 'APOLLOHOSP.NS', 'ASIANPAINT.NS', 'AXISBANK.NS']... (50 total)\n",
      "2024-03-28: ['UPL.NS', 'ADANIPORTS.NS', 'INFY.NS', 'ASIANPAINT.NS', 'BAJAJ-AUTO.NS']... (50 total)\n",
      "2023-07-13: ['ADANIENT.NS', 'ADANIPORTS.NS', 'APOLLOHOSP.NS', 'ASIANPAINT.NS', 'AXISBANK.NS']... (50 total)\n",
      "2022-09-30: ['SHREECEM.NS', 'ADANIPORTS.NS', 'APOLLOHOSP.NS', 'ASIANPAINT.NS', 'AXISBANK.NS']... (50 total)\n",
      "2022-03-31: ['SHREECEM.NS', 'ADANIPORTS.NS', 'IOC.NS', 'ASIANPAINT.NS', 'AXISBANK.NS']... (50 total)\n",
      "2021-03-31: ['SHREECEM.NS', 'ADANIPORTS.NS', 'IOC.NS', 'ASIANPAINT.NS', 'AXISBANK.NS']... (50 total)\n",
      "2020-09-25: ['SHREECEM.NS', 'ADANIPORTS.NS', 'IOC.NS', 'ASIANPAINT.NS', 'AXISBANK.NS']... (50 total)\n",
      "2020-07-31: ['SHREECEM.NS', 'ADANIPORTS.NS', 'IOC.NS', 'ASIANPAINT.NS', 'AXISBANK.NS']... (50 total)\n",
      "2020-03-19: ['YESBANK.NS', 'ADANIPORTS.NS', 'IOC.NS', 'ASIANPAINT.NS', 'AXISBANK.NS']... (50 total)\n",
      "2019-09-27: ['YESBANK.NS', 'ADANIPORTS.NS', 'IOC.NS', 'ASIANPAINT.NS', 'AXISBANK.NS']... (50 total)\n",
      "2019-03-29: ['YESBANK.NS', 'ADANIPORTS.NS', 'IOC.NS', 'ASIANPAINT.NS', 'AXISBANK.NS']... (50 total)\n",
      "2018-09-28: ['YESBANK.NS', 'ADANIPORTS.NS', 'IOC.NS', 'ASIANPAINT.NS', 'AXISBANK.NS']... (50 total)\n",
      "2018-04-02: ['YESBANK.NS', 'AMBUJACEM.NS', 'IOC.NS', 'AUROPHARMA.NS', 'BAJAJ-AUTO.NS']... (50 total)\n",
      "2017-09-29: ['YESBANK.NS', 'ADANIPORTS.NS', 'IOC.NS', 'ASIANPAINT.NS', 'AXISBANK.NS']... (50 total)\n",
      "2017-03-31: ['ACC.NS', 'ADANIPORTS.NS', 'AMBUJACEM.NS', 'ASIANPAINT.NS', 'AUROPHARMA.NS']... (50 total)\n",
      "2016-04-01: ['ACC.NS', 'ADANIPORTS.NS', 'AMBUJACEM.NS', 'ASIANPAINT.NS', 'AUROPHARMA.NS']... (50 total)\n"
     ]
    }
   ],
   "source": [
    "import pandas as pd\n",
    "from datetime import date\n",
    "\n",
    "df_const = pd.read_excel(\"nifty50_constituents.xlsx\", sheet_name=0)\n",
    "\n",
    "cols = df_const.columns.tolist()\n",
    "rebalance_dates = []\n",
    "\n",
    "for col in cols:\n",
    "    try:\n",
    "        dt = pd.to_datetime(col)\n",
    "        rebalance_dates.append(dt.date())\n",
    "    except (ValueError, TypeError):\n",
    "        continue  # skip non-date columns\n",
    "\n",
    "#map date to tickers\n",
    "constituents_by_date = {}\n",
    "\n",
    "for dt in rebalance_dates:\n",
    "    col_str = pd.to_datetime(dt).strftime(\"%Y-%m-%d\")\n",
    "    \n",
    "    for col in df_const.columns:\n",
    "        try:\n",
    "            col_date = pd.to_datetime(col).date()\n",
    "            if col_date == dt:\n",
    "                tickers = df_const[col].dropna().tolist()\n",
    "                constituents_by_date[dt] = tickers\n",
    "                break\n",
    "        except:\n",
    "            continue\n",
    "\n",
    "for d, tickers in constituents_by_date.items():\n",
    "    print(f\"{d}: {tickers[:5]}... ({len(tickers)} total)\")\n"
   ]
  },
  {
   "cell_type": "code",
   "execution_count": 12,
   "id": "c720ff0f",
   "metadata": {},
   "outputs": [
    {
     "name": "stdout",
     "output_type": "stream",
     "text": [
      "2016-04-01: ['ACC.NS', 'ADANIPORTS.NS', 'AMBUJACEM.NS', 'ASIANPAINT.NS', 'AUROPHARMA.NS']... (50 total)\n",
      "2017-03-31: ['ACC.NS', 'ADANIPORTS.NS', 'AMBUJACEM.NS', 'ASIANPAINT.NS', 'AUROPHARMA.NS']... (50 total)\n",
      "2017-09-29: ['ACC.NS', 'ADANIPORTS.NS', 'AMBUJACEM.NS', 'ASIANPAINT.NS', 'AUROPHARMA.NS']... (50 total)\n",
      "2018-04-02: ['ADANIPORTS.NS', 'AMBUJACEM.NS', 'ASIANPAINT.NS', 'AUROPHARMA.NS', 'AXISBANK.NS']... (50 total)\n",
      "2018-09-28: ['ADANIPORTS.NS', 'ASIANPAINT.NS', 'AXISBANK.NS', 'BAJAJ-AUTO.NS', 'BAJAJFINSV.NS']... (50 total)\n",
      "2019-03-29: ['ADANIPORTS.NS', 'ASIANPAINT.NS', 'AXISBANK.NS', 'BAJAJ-AUTO.NS', 'BAJAJFINSV.NS']... (50 total)\n",
      "2019-09-27: ['ADANIPORTS.NS', 'ASIANPAINT.NS', 'AXISBANK.NS', 'BAJAJ-AUTO.NS', 'BAJAJFINSV.NS']... (50 total)\n",
      "2020-03-19: ['ADANIPORTS.NS', 'ASIANPAINT.NS', 'AXISBANK.NS', 'BAJAJ-AUTO.NS', 'BAJAJFINSV.NS']... (50 total)\n",
      "2020-07-31: ['ADANIPORTS.NS', 'ASIANPAINT.NS', 'AXISBANK.NS', 'BAJAJ-AUTO.NS', 'BAJAJFINSV.NS']... (50 total)\n",
      "2020-09-25: ['ADANIPORTS.NS', 'ASIANPAINT.NS', 'AXISBANK.NS', 'BAJAJ-AUTO.NS', 'BAJAJFINSV.NS']... (50 total)\n",
      "2021-03-31: ['ADANIPORTS.NS', 'ASIANPAINT.NS', 'AXISBANK.NS', 'BAJAJ-AUTO.NS', 'BAJAJFINSV.NS']... (50 total)\n",
      "2022-03-31: ['ADANIPORTS.NS', 'ASIANPAINT.NS', 'AXISBANK.NS', 'BAJAJ-AUTO.NS', 'BAJAJFINSV.NS']... (50 total)\n",
      "2022-09-30: ['ADANIPORTS.NS', 'APOLLOHOSP.NS', 'ASIANPAINT.NS', 'AXISBANK.NS', 'BAJAJ-AUTO.NS']... (50 total)\n",
      "2023-07-13: ['ADANIENT.NS', 'ADANIPORTS.NS', 'APOLLOHOSP.NS', 'ASIANPAINT.NS', 'AXISBANK.NS']... (50 total)\n",
      "2024-03-28: ['ADANIENT.NS', 'ADANIPORTS.NS', 'APOLLOHOSP.NS', 'ASIANPAINT.NS', 'AXISBANK.NS']... (50 total)\n",
      "2024-09-30: ['ADANIENT.NS', 'ADANIPORTS.NS', 'APOLLOHOSP.NS', 'ASIANPAINT.NS', 'AXISBANK.NS']... (50 total)\n",
      "2025-03-28: ['ADANIENT.NS', 'ADANIPORTS.NS', 'APOLLOHOSP.NS', 'ASIANPAINT.NS', 'AXISBANK.NS']... (50 total)\n"
     ]
    }
   ],
   "source": [
    "#sort the dict\n",
    "constituents_by_date_reversed = {}\n",
    "\n",
    "for dt in sorted(constituents_by_date.keys(), reverse=False):\n",
    "    sorted_tickers = sorted(constituents_by_date[dt])\n",
    "    constituents_by_date_reversed[dt] = sorted_tickers\n",
    "\n",
    "for d, tickers in constituents_by_date_reversed.items():\n",
    "    print(f\"{d}: {tickers[:5]}... ({len(tickers)} total)\")\n"
   ]
  },
  {
   "cell_type": "code",
   "execution_count": 13,
   "id": "6a235a0c",
   "metadata": {},
   "outputs": [
    {
     "name": "stdout",
     "output_type": "stream",
     "text": [
      "                                                 Constituents\n",
      "Date                                                         \n",
      "2016-04-01  [ACC.NS, ADANIPORTS.NS, AMBUJACEM.NS, ASIANPAI...\n",
      "2016-04-02  [ACC.NS, ADANIPORTS.NS, AMBUJACEM.NS, ASIANPAI...\n",
      "2016-04-03  [ACC.NS, ADANIPORTS.NS, AMBUJACEM.NS, ASIANPAI...\n",
      "2016-04-04  [ACC.NS, ADANIPORTS.NS, AMBUJACEM.NS, ASIANPAI...\n",
      "2016-04-05  [ACC.NS, ADANIPORTS.NS, AMBUJACEM.NS, ASIANPAI...\n",
      "2016-04-06  [ACC.NS, ADANIPORTS.NS, AMBUJACEM.NS, ASIANPAI...\n",
      "2016-04-07  [ACC.NS, ADANIPORTS.NS, AMBUJACEM.NS, ASIANPAI...\n",
      "2016-04-08  [ACC.NS, ADANIPORTS.NS, AMBUJACEM.NS, ASIANPAI...\n",
      "2016-04-09  [ACC.NS, ADANIPORTS.NS, AMBUJACEM.NS, ASIANPAI...\n",
      "2016-04-10  [ACC.NS, ADANIPORTS.NS, AMBUJACEM.NS, ASIANPAI...\n"
     ]
    }
   ],
   "source": [
    "all_dates = pd.date_range(start='2016-04-01', end='2025-01-01', freq='D')\n",
    "\n",
    "sorted_dict_dates = sorted(constituents_by_date_reversed.keys())\n",
    "\n",
    "data = []\n",
    "last_known_data = None\n",
    "j = 0  \n",
    "for date in all_dates:\n",
    "    current_date = date.to_pydatetime().date()\n",
    "    while j < len(sorted_dict_dates) and sorted_dict_dates[j] <= current_date:\n",
    "        last_known_data = constituents_by_date_reversed[sorted_dict_dates[j]]\n",
    "        j += 1\n",
    "    data.append((date, last_known_data))\n",
    "\n",
    "\n",
    "df = pd.DataFrame(data, columns=['Date', 'Constituents'])\n",
    "df.set_index('Date', inplace=True)\n",
    "\n",
    "print(df.head(10))"
   ]
  },
  {
   "cell_type": "code",
   "execution_count": 14,
   "id": "09e8b0fe",
   "metadata": {},
   "outputs": [
    {
     "name": "stdout",
     "output_type": "stream",
     "text": [
      "                                                 Constituents\n",
      "Date                                                         \n",
      "2016-04-30  [ACC.NS, ADANIPORTS.NS, AMBUJACEM.NS, ASIANPAI...\n",
      "2016-05-31  [ACC.NS, ADANIPORTS.NS, AMBUJACEM.NS, ASIANPAI...\n",
      "2016-06-30  [ACC.NS, ADANIPORTS.NS, AMBUJACEM.NS, ASIANPAI...\n",
      "2016-07-31  [ACC.NS, ADANIPORTS.NS, AMBUJACEM.NS, ASIANPAI...\n",
      "2016-08-31  [ACC.NS, ADANIPORTS.NS, AMBUJACEM.NS, ASIANPAI...\n"
     ]
    }
   ],
   "source": [
    "# Resample to month-end and take the last known data for that month\n",
    "df_month_end = df.resample('ME').last()\n",
    "# print(len(df_month_end))\n",
    "print(df_month_end.head())"
   ]
  },
  {
   "cell_type": "code",
   "execution_count": 15,
   "id": "c0d5baac",
   "metadata": {},
   "outputs": [
    {
     "name": "stdout",
     "output_type": "stream",
     "text": [
      "YF.download() has changed argument auto_adjust default to True\n"
     ]
    },
    {
     "name": "stderr",
     "output_type": "stream",
     "text": [
      "[**********************51%                       ]  34 of 67 completed404 Client Error: Not Found for url: https://query2.finance.yahoo.com/v10/finance/quoteSummary/VEDANTA.NS?modules=financialData%2CquoteType%2CdefaultKeyStatistics%2CassetProfile%2CsummaryDetail&corsDomain=finance.yahoo.com&formatted=false&symbol=VEDANTA.NS&crumb=I59pp79wx4d\n",
      "[*********************100%***********************]  67 of 67 completed\n",
      "\n",
      "1 Failed download:\n",
      "['VEDANTA.NS']: AttributeError(\"'NoneType' object has no attribute 'update'\")\n"
     ]
    }
   ],
   "source": [
    "#get data for all uniique stocks\n",
    "all_stocks = sorted(set(stock for lst in df_month_end['Constituents'] for stock in lst))\n",
    "\n",
    "#download adjusted daily price data\n",
    "price_data = yf.download(all_stocks, start='2015-03-01', end='2025-01-01', interval='1d')['Close']\n"
   ]
  },
  {
   "cell_type": "code",
   "execution_count": 16,
   "id": "63e2845d",
   "metadata": {},
   "outputs": [
    {
     "data": {
      "text/html": [
       "<div>\n",
       "<style scoped>\n",
       "    .dataframe tbody tr th:only-of-type {\n",
       "        vertical-align: middle;\n",
       "    }\n",
       "\n",
       "    .dataframe tbody tr th {\n",
       "        vertical-align: top;\n",
       "    }\n",
       "\n",
       "    .dataframe thead th {\n",
       "        text-align: right;\n",
       "    }\n",
       "</style>\n",
       "<table border=\"1\" class=\"dataframe\">\n",
       "  <thead>\n",
       "    <tr style=\"text-align: right;\">\n",
       "      <th>Ticker</th>\n",
       "      <th>ACC.NS</th>\n",
       "      <th>ADANIENT.NS</th>\n",
       "      <th>ADANIPORTS.NS</th>\n",
       "      <th>AMBUJACEM.NS</th>\n",
       "      <th>APOLLOHOSP.NS</th>\n",
       "      <th>ASIANPAINT.NS</th>\n",
       "      <th>AUROPHARMA.NS</th>\n",
       "      <th>AXISBANK.NS</th>\n",
       "      <th>BAJAJ-AUTO.NS</th>\n",
       "      <th>BAJAJFINSV.NS</th>\n",
       "      <th>...</th>\n",
       "      <th>TATASTEEL.NS</th>\n",
       "      <th>TCS.NS</th>\n",
       "      <th>TECHM.NS</th>\n",
       "      <th>TITAN.NS</th>\n",
       "      <th>ULTRACEMCO.NS</th>\n",
       "      <th>UPL.NS</th>\n",
       "      <th>VEDANTA.NS</th>\n",
       "      <th>WIPRO.NS</th>\n",
       "      <th>YESBANK.NS</th>\n",
       "      <th>ZEEL.NS</th>\n",
       "    </tr>\n",
       "    <tr>\n",
       "      <th>Date</th>\n",
       "      <th></th>\n",
       "      <th></th>\n",
       "      <th></th>\n",
       "      <th></th>\n",
       "      <th></th>\n",
       "      <th></th>\n",
       "      <th></th>\n",
       "      <th></th>\n",
       "      <th></th>\n",
       "      <th></th>\n",
       "      <th></th>\n",
       "      <th></th>\n",
       "      <th></th>\n",
       "      <th></th>\n",
       "      <th></th>\n",
       "      <th></th>\n",
       "      <th></th>\n",
       "      <th></th>\n",
       "      <th></th>\n",
       "      <th></th>\n",
       "      <th></th>\n",
       "    </tr>\n",
       "  </thead>\n",
       "  <tbody>\n",
       "    <tr>\n",
       "      <th>2015-03-02</th>\n",
       "      <td>1537.768677</td>\n",
       "      <td>102.324707</td>\n",
       "      <td>313.489899</td>\n",
       "      <td>244.200424</td>\n",
       "      <td>1297.439819</td>\n",
       "      <td>764.317505</td>\n",
       "      <td>516.182373</td>\n",
       "      <td>626.728455</td>\n",
       "      <td>1600.532959</td>\n",
       "      <td>144.357086</td>\n",
       "      <td>...</td>\n",
       "      <td>12.076638</td>\n",
       "      <td>1087.920166</td>\n",
       "      <td>556.774597</td>\n",
       "      <td>390.514435</td>\n",
       "      <td>3245.360840</td>\n",
       "      <td>268.031555</td>\n",
       "      <td>NaN</td>\n",
       "      <td>120.601341</td>\n",
       "      <td>165.688065</td>\n",
       "      <td>320.732056</td>\n",
       "    </tr>\n",
       "    <tr>\n",
       "      <th>2015-03-03</th>\n",
       "      <td>1533.843140</td>\n",
       "      <td>104.039955</td>\n",
       "      <td>319.373444</td>\n",
       "      <td>240.393478</td>\n",
       "      <td>1351.527954</td>\n",
       "      <td>776.074890</td>\n",
       "      <td>521.357910</td>\n",
       "      <td>611.097717</td>\n",
       "      <td>1633.905396</td>\n",
       "      <td>147.703964</td>\n",
       "      <td>...</td>\n",
       "      <td>12.097192</td>\n",
       "      <td>1131.364868</td>\n",
       "      <td>566.206421</td>\n",
       "      <td>393.733154</td>\n",
       "      <td>3236.741211</td>\n",
       "      <td>265.305939</td>\n",
       "      <td>NaN</td>\n",
       "      <td>122.044205</td>\n",
       "      <td>164.965225</td>\n",
       "      <td>325.598053</td>\n",
       "    </tr>\n",
       "    <tr>\n",
       "      <th>2015-03-04</th>\n",
       "      <td>1504.925171</td>\n",
       "      <td>101.517540</td>\n",
       "      <td>315.055664</td>\n",
       "      <td>234.961121</td>\n",
       "      <td>1364.616821</td>\n",
       "      <td>774.686157</td>\n",
       "      <td>508.371490</td>\n",
       "      <td>593.047485</td>\n",
       "      <td>1637.454834</td>\n",
       "      <td>146.226929</td>\n",
       "      <td>...</td>\n",
       "      <td>11.925917</td>\n",
       "      <td>1119.138550</td>\n",
       "      <td>560.560913</td>\n",
       "      <td>389.473053</td>\n",
       "      <td>3188.057861</td>\n",
       "      <td>263.214142</td>\n",
       "      <td>NaN</td>\n",
       "      <td>119.693886</td>\n",
       "      <td>160.834763</td>\n",
       "      <td>319.983490</td>\n",
       "    </tr>\n",
       "    <tr>\n",
       "      <th>2015-03-05</th>\n",
       "      <td>1481.807739</td>\n",
       "      <td>100.818459</td>\n",
       "      <td>316.052094</td>\n",
       "      <td>233.848984</td>\n",
       "      <td>1355.569946</td>\n",
       "      <td>772.001587</td>\n",
       "      <td>519.102478</td>\n",
       "      <td>596.967224</td>\n",
       "      <td>1634.792725</td>\n",
       "      <td>152.085205</td>\n",
       "      <td>...</td>\n",
       "      <td>11.758067</td>\n",
       "      <td>1098.944214</td>\n",
       "      <td>560.298035</td>\n",
       "      <td>384.124176</td>\n",
       "      <td>3071.767090</td>\n",
       "      <td>267.302612</td>\n",
       "      <td>NaN</td>\n",
       "      <td>121.200279</td>\n",
       "      <td>160.844147</td>\n",
       "      <td>320.030304</td>\n",
       "    </tr>\n",
       "    <tr>\n",
       "      <th>2015-03-09</th>\n",
       "      <td>1448.179077</td>\n",
       "      <td>95.960953</td>\n",
       "      <td>308.412933</td>\n",
       "      <td>225.636215</td>\n",
       "      <td>1311.924316</td>\n",
       "      <td>752.328979</td>\n",
       "      <td>523.589600</td>\n",
       "      <td>572.577515</td>\n",
       "      <td>1628.002808</td>\n",
       "      <td>146.276672</td>\n",
       "      <td>...</td>\n",
       "      <td>11.519992</td>\n",
       "      <td>1078.709351</td>\n",
       "      <td>547.294006</td>\n",
       "      <td>378.396667</td>\n",
       "      <td>2952.923340</td>\n",
       "      <td>276.683868</td>\n",
       "      <td>NaN</td>\n",
       "      <td>119.802780</td>\n",
       "      <td>154.732941</td>\n",
       "      <td>315.070740</td>\n",
       "    </tr>\n",
       "    <tr>\n",
       "      <th>...</th>\n",
       "      <td>...</td>\n",
       "      <td>...</td>\n",
       "      <td>...</td>\n",
       "      <td>...</td>\n",
       "      <td>...</td>\n",
       "      <td>...</td>\n",
       "      <td>...</td>\n",
       "      <td>...</td>\n",
       "      <td>...</td>\n",
       "      <td>...</td>\n",
       "      <td>...</td>\n",
       "      <td>...</td>\n",
       "      <td>...</td>\n",
       "      <td>...</td>\n",
       "      <td>...</td>\n",
       "      <td>...</td>\n",
       "      <td>...</td>\n",
       "      <td>...</td>\n",
       "      <td>...</td>\n",
       "      <td>...</td>\n",
       "      <td>...</td>\n",
       "    </tr>\n",
       "    <tr>\n",
       "      <th>2024-12-24</th>\n",
       "      <td>2079.899902</td>\n",
       "      <td>2372.449951</td>\n",
       "      <td>1182.199951</td>\n",
       "      <td>543.099976</td>\n",
       "      <td>7229.774414</td>\n",
       "      <td>2284.000000</td>\n",
       "      <td>1262.449951</td>\n",
       "      <td>1078.900024</td>\n",
       "      <td>8778.049805</td>\n",
       "      <td>1564.550049</td>\n",
       "      <td>...</td>\n",
       "      <td>140.380005</td>\n",
       "      <td>4113.920410</td>\n",
       "      <td>1704.900024</td>\n",
       "      <td>3353.399902</td>\n",
       "      <td>11390.349609</td>\n",
       "      <td>504.500000</td>\n",
       "      <td>NaN</td>\n",
       "      <td>299.351624</td>\n",
       "      <td>19.799999</td>\n",
       "      <td>126.139999</td>\n",
       "    </tr>\n",
       "    <tr>\n",
       "      <th>2024-12-26</th>\n",
       "      <td>2087.649902</td>\n",
       "      <td>2400.250000</td>\n",
       "      <td>1243.949951</td>\n",
       "      <td>548.799988</td>\n",
       "      <td>7250.894531</td>\n",
       "      <td>2262.399902</td>\n",
       "      <td>1256.250000</td>\n",
       "      <td>1076.699951</td>\n",
       "      <td>8878.500000</td>\n",
       "      <td>1559.300049</td>\n",
       "      <td>...</td>\n",
       "      <td>140.360001</td>\n",
       "      <td>4103.683594</td>\n",
       "      <td>1698.699951</td>\n",
       "      <td>3323.050049</td>\n",
       "      <td>11460.650391</td>\n",
       "      <td>499.649994</td>\n",
       "      <td>NaN</td>\n",
       "      <td>299.106476</td>\n",
       "      <td>19.799999</td>\n",
       "      <td>124.849998</td>\n",
       "    </tr>\n",
       "    <tr>\n",
       "      <th>2024-12-27</th>\n",
       "      <td>2065.600098</td>\n",
       "      <td>2409.949951</td>\n",
       "      <td>1230.699951</td>\n",
       "      <td>547.950012</td>\n",
       "      <td>7236.065430</td>\n",
       "      <td>2271.399902</td>\n",
       "      <td>1269.949951</td>\n",
       "      <td>1077.449951</td>\n",
       "      <td>8928.299805</td>\n",
       "      <td>1579.300049</td>\n",
       "      <td>...</td>\n",
       "      <td>138.910004</td>\n",
       "      <td>4099.500488</td>\n",
       "      <td>1711.650024</td>\n",
       "      <td>3309.199951</td>\n",
       "      <td>11406.549805</td>\n",
       "      <td>502.049988</td>\n",
       "      <td>NaN</td>\n",
       "      <td>303.077606</td>\n",
       "      <td>19.820000</td>\n",
       "      <td>124.709999</td>\n",
       "    </tr>\n",
       "    <tr>\n",
       "      <th>2024-12-30</th>\n",
       "      <td>2059.899902</td>\n",
       "      <td>2592.350098</td>\n",
       "      <td>1218.500000</td>\n",
       "      <td>544.599976</td>\n",
       "      <td>7303.919434</td>\n",
       "      <td>2288.250000</td>\n",
       "      <td>1298.300049</td>\n",
       "      <td>1069.949951</td>\n",
       "      <td>8779.900391</td>\n",
       "      <td>1576.699951</td>\n",
       "      <td>...</td>\n",
       "      <td>136.880005</td>\n",
       "      <td>4093.545166</td>\n",
       "      <td>1740.849976</td>\n",
       "      <td>3257.350098</td>\n",
       "      <td>11288.349609</td>\n",
       "      <td>500.750000</td>\n",
       "      <td>NaN</td>\n",
       "      <td>297.782806</td>\n",
       "      <td>19.540001</td>\n",
       "      <td>122.099998</td>\n",
       "    </tr>\n",
       "    <tr>\n",
       "      <th>2024-12-31</th>\n",
       "      <td>2052.500000</td>\n",
       "      <td>2528.649902</td>\n",
       "      <td>1231.099976</td>\n",
       "      <td>535.799988</td>\n",
       "      <td>7286.044922</td>\n",
       "      <td>2281.350098</td>\n",
       "      <td>1334.500000</td>\n",
       "      <td>1064.699951</td>\n",
       "      <td>8798.599609</td>\n",
       "      <td>1568.099976</td>\n",
       "      <td>...</td>\n",
       "      <td>138.050003</td>\n",
       "      <td>4030.549561</td>\n",
       "      <td>1706.199951</td>\n",
       "      <td>3253.149902</td>\n",
       "      <td>11426.349609</td>\n",
       "      <td>501.000000</td>\n",
       "      <td>NaN</td>\n",
       "      <td>295.968842</td>\n",
       "      <td>19.590000</td>\n",
       "      <td>121.290001</td>\n",
       "    </tr>\n",
       "  </tbody>\n",
       "</table>\n",
       "<p>2427 rows × 67 columns</p>\n",
       "</div>"
      ],
      "text/plain": [
       "Ticker           ACC.NS  ADANIENT.NS  ADANIPORTS.NS  AMBUJACEM.NS  \\\n",
       "Date                                                                \n",
       "2015-03-02  1537.768677   102.324707     313.489899    244.200424   \n",
       "2015-03-03  1533.843140   104.039955     319.373444    240.393478   \n",
       "2015-03-04  1504.925171   101.517540     315.055664    234.961121   \n",
       "2015-03-05  1481.807739   100.818459     316.052094    233.848984   \n",
       "2015-03-09  1448.179077    95.960953     308.412933    225.636215   \n",
       "...                 ...          ...            ...           ...   \n",
       "2024-12-24  2079.899902  2372.449951    1182.199951    543.099976   \n",
       "2024-12-26  2087.649902  2400.250000    1243.949951    548.799988   \n",
       "2024-12-27  2065.600098  2409.949951    1230.699951    547.950012   \n",
       "2024-12-30  2059.899902  2592.350098    1218.500000    544.599976   \n",
       "2024-12-31  2052.500000  2528.649902    1231.099976    535.799988   \n",
       "\n",
       "Ticker      APOLLOHOSP.NS  ASIANPAINT.NS  AUROPHARMA.NS  AXISBANK.NS  \\\n",
       "Date                                                                   \n",
       "2015-03-02    1297.439819     764.317505     516.182373   626.728455   \n",
       "2015-03-03    1351.527954     776.074890     521.357910   611.097717   \n",
       "2015-03-04    1364.616821     774.686157     508.371490   593.047485   \n",
       "2015-03-05    1355.569946     772.001587     519.102478   596.967224   \n",
       "2015-03-09    1311.924316     752.328979     523.589600   572.577515   \n",
       "...                   ...            ...            ...          ...   \n",
       "2024-12-24    7229.774414    2284.000000    1262.449951  1078.900024   \n",
       "2024-12-26    7250.894531    2262.399902    1256.250000  1076.699951   \n",
       "2024-12-27    7236.065430    2271.399902    1269.949951  1077.449951   \n",
       "2024-12-30    7303.919434    2288.250000    1298.300049  1069.949951   \n",
       "2024-12-31    7286.044922    2281.350098    1334.500000  1064.699951   \n",
       "\n",
       "Ticker      BAJAJ-AUTO.NS  BAJAJFINSV.NS  ...  TATASTEEL.NS       TCS.NS  \\\n",
       "Date                                      ...                              \n",
       "2015-03-02    1600.532959     144.357086  ...     12.076638  1087.920166   \n",
       "2015-03-03    1633.905396     147.703964  ...     12.097192  1131.364868   \n",
       "2015-03-04    1637.454834     146.226929  ...     11.925917  1119.138550   \n",
       "2015-03-05    1634.792725     152.085205  ...     11.758067  1098.944214   \n",
       "2015-03-09    1628.002808     146.276672  ...     11.519992  1078.709351   \n",
       "...                   ...            ...  ...           ...          ...   \n",
       "2024-12-24    8778.049805    1564.550049  ...    140.380005  4113.920410   \n",
       "2024-12-26    8878.500000    1559.300049  ...    140.360001  4103.683594   \n",
       "2024-12-27    8928.299805    1579.300049  ...    138.910004  4099.500488   \n",
       "2024-12-30    8779.900391    1576.699951  ...    136.880005  4093.545166   \n",
       "2024-12-31    8798.599609    1568.099976  ...    138.050003  4030.549561   \n",
       "\n",
       "Ticker         TECHM.NS     TITAN.NS  ULTRACEMCO.NS      UPL.NS  VEDANTA.NS  \\\n",
       "Date                                                                          \n",
       "2015-03-02   556.774597   390.514435    3245.360840  268.031555         NaN   \n",
       "2015-03-03   566.206421   393.733154    3236.741211  265.305939         NaN   \n",
       "2015-03-04   560.560913   389.473053    3188.057861  263.214142         NaN   \n",
       "2015-03-05   560.298035   384.124176    3071.767090  267.302612         NaN   \n",
       "2015-03-09   547.294006   378.396667    2952.923340  276.683868         NaN   \n",
       "...                 ...          ...            ...         ...         ...   \n",
       "2024-12-24  1704.900024  3353.399902   11390.349609  504.500000         NaN   \n",
       "2024-12-26  1698.699951  3323.050049   11460.650391  499.649994         NaN   \n",
       "2024-12-27  1711.650024  3309.199951   11406.549805  502.049988         NaN   \n",
       "2024-12-30  1740.849976  3257.350098   11288.349609  500.750000         NaN   \n",
       "2024-12-31  1706.199951  3253.149902   11426.349609  501.000000         NaN   \n",
       "\n",
       "Ticker        WIPRO.NS  YESBANK.NS     ZEEL.NS  \n",
       "Date                                            \n",
       "2015-03-02  120.601341  165.688065  320.732056  \n",
       "2015-03-03  122.044205  164.965225  325.598053  \n",
       "2015-03-04  119.693886  160.834763  319.983490  \n",
       "2015-03-05  121.200279  160.844147  320.030304  \n",
       "2015-03-09  119.802780  154.732941  315.070740  \n",
       "...                ...         ...         ...  \n",
       "2024-12-24  299.351624   19.799999  126.139999  \n",
       "2024-12-26  299.106476   19.799999  124.849998  \n",
       "2024-12-27  303.077606   19.820000  124.709999  \n",
       "2024-12-30  297.782806   19.540001  122.099998  \n",
       "2024-12-31  295.968842   19.590000  121.290001  \n",
       "\n",
       "[2427 rows x 67 columns]"
      ]
     },
     "execution_count": 16,
     "metadata": {},
     "output_type": "execute_result"
    }
   ],
   "source": [
    "price_data"
   ]
  },
  {
   "cell_type": "code",
   "execution_count": 17,
   "id": "3a6fcaae",
   "metadata": {},
   "outputs": [],
   "source": [
    "# Extract Close prices \n",
    "monthly_prices = {}\n",
    "for stock in all_stocks:\n",
    "    try:\n",
    "        monthly_prices[stock] = price_data[stock].resample('ME').last()\n",
    "    except:\n",
    "        pass\n",
    "\n",
    "monthly_prices_df = pd.DataFrame(monthly_prices)\n"
   ]
  },
  {
   "cell_type": "code",
   "execution_count": 18,
   "id": "d247a014",
   "metadata": {},
   "outputs": [
    {
     "name": "stdout",
     "output_type": "stream",
     "text": [
      "                 ACC.NS  ADANIENT.NS  ADANIPORTS.NS  AMBUJACEM.NS  \\\n",
      "Date                                                                \n",
      "2015-03-31  1379.237793    88.696312     292.470367    218.407303   \n",
      "2015-04-30  1265.342163    97.178925     301.343109    198.816513   \n",
      "2015-05-31  1334.800659   101.805801     308.294983    203.265091   \n",
      "2015-06-30  1274.918335    46.553738     293.111053    196.677765   \n",
      "2015-07-31  1233.907593    45.990685     309.389801    198.730972   \n",
      "...                 ...          ...            ...           ...   \n",
      "2024-08-31  2329.149902  3019.350098    1481.900024    617.049988   \n",
      "2024-09-30  2513.449951  3135.850098    1448.199951    632.549988   \n",
      "2024-10-31  2320.399902  2947.250000    1375.949951    580.549988   \n",
      "2024-11-30  2222.550049  2463.149902    1190.050049    531.500000   \n",
      "2024-12-31  2052.500000  2528.649902    1231.099976    535.799988   \n",
      "\n",
      "            APOLLOHOSP.NS  ASIANPAINT.NS  AUROPHARMA.NS  AXISBANK.NS  \\\n",
      "Date                                                                   \n",
      "2015-03-31    1317.746826     751.079041     580.046265   542.187134   \n",
      "2015-04-30    1094.417480     705.855042     610.458801   549.542786   \n",
      "2015-05-31    1166.983521     728.629150     652.504639   566.576904   \n",
      "2015-06-30    1266.497925     703.279358     689.971924   540.977356   \n",
      "2015-07-31    1314.454712     821.943665     722.189575   559.522949   \n",
      "...                   ...            ...            ...          ...   \n",
      "2024-08-31    6917.715820    3121.449707    1569.400024  1175.250000   \n",
      "2024-09-30    7188.981934    3323.403564    1460.699951  1232.199951   \n",
      "2024-10-31    7012.781250    2930.626709    1396.500000  1159.550049   \n",
      "2024-11-30    6819.254883    2479.600098    1262.599976  1136.300049   \n",
      "2024-12-31    7286.044922    2281.350098    1334.500000  1064.699951   \n",
      "\n",
      "            BAJAJ-AUTO.NS  BAJAJFINSV.NS  ...  TATASTEEL.NS       TCS.NS  \\\n",
      "Date                                      ...                              \n",
      "2015-03-31    1556.048950     140.691986  ...     10.850307  1040.867920   \n",
      "2015-04-30    1503.617310     142.716019  ...     12.343829  1004.086548   \n",
      "2015-05-31    1787.149048     151.886276  ...     11.252805  1063.833862   \n",
      "2015-06-30    1961.419434     152.383560  ...     10.434107  1049.310059   \n",
      "2015-07-31    1987.212036     183.757217  ...      8.705974  1034.994507   \n",
      "...                   ...            ...  ...           ...          ...   \n",
      "2024-08-31   10891.549805    1783.050049  ...    152.759995  4471.390137   \n",
      "2024-09-30   12345.950195    1973.400024  ...    168.550003  4191.298828   \n",
      "2024-10-31    9836.299805    1750.750000  ...    148.559998  3906.182129   \n",
      "2024-11-30    9033.650391    1579.949951  ...    144.539993  4203.837402   \n",
      "2024-12-31    8798.599609    1568.099976  ...    138.050003  4030.549561   \n",
      "\n",
      "               TECHM.NS     TITAN.NS  ULTRACEMCO.NS      UPL.NS  VEDANTA.NS  \\\n",
      "Date                                                                          \n",
      "2015-03-31   490.342346   370.728394    2771.625488  280.265198         NaN   \n",
      "2015-04-30   483.840332   362.397400    2573.425049  311.007935         NaN   \n",
      "2015-05-31   431.706879   358.137268    2865.429199  350.307770         NaN   \n",
      "2015-06-30   372.059021   346.776794    2882.908691  339.500275         NaN   \n",
      "2015-07-31   418.170013   308.423035    3032.858887  339.563690         NaN   \n",
      "...                 ...          ...            ...         ...         ...   \n",
      "2024-08-31  1621.931396  3565.149902   11301.900391  598.349976         NaN   \n",
      "2024-09-30  1563.159180  3823.949951   11802.000000  613.150024         NaN   \n",
      "2024-10-31  1608.650024  3267.050049   11065.650391  553.650024         NaN   \n",
      "2024-11-30  1712.300049  3249.000000   11202.150391  545.000000         NaN   \n",
      "2024-12-31  1706.199951  3253.149902   11426.349609  501.000000         NaN   \n",
      "\n",
      "              WIPRO.NS  YESBANK.NS     ZEEL.NS  \n",
      "Date                                            \n",
      "2015-03-31  114.131157  153.155853  319.796326  \n",
      "2015-04-30   97.751526  157.605484  292.004242  \n",
      "2015-05-31  101.943985  167.372467  302.952637  \n",
      "2015-06-30   99.221596  160.078476  344.266479  \n",
      "2015-07-31  103.423134  157.251953  375.556030  \n",
      "...                ...         ...         ...  \n",
      "2024-08-31  263.955017   23.610001  139.652954  \n",
      "2024-09-30  265.450287   22.480000  136.597610  \n",
      "2024-10-31  270.524445   20.400000  121.172104  \n",
      "2024-11-30  283.295654   19.959999  129.160004  \n",
      "2024-12-31  295.968842   19.590000  121.290001  \n",
      "\n",
      "[118 rows x 67 columns]\n"
     ]
    }
   ],
   "source": [
    "print(monthly_prices_df)"
   ]
  },
  {
   "cell_type": "code",
   "execution_count": 19,
   "id": "6ef65cc0",
   "metadata": {},
   "outputs": [],
   "source": [
    "roc_12m = (monthly_prices_df / monthly_prices_df.shift(12)) - 1\n",
    "# roc_12m = (monthly_prices_df / monthly_prices_df.shift(6)) - 1\n",
    "\n"
   ]
  },
  {
   "cell_type": "code",
   "execution_count": 20,
   "id": "ebedcf51",
   "metadata": {},
   "outputs": [
    {
     "name": "stdout",
     "output_type": "stream",
     "text": [
      "              ACC.NS  ADANIENT.NS  ADANIPORTS.NS  AMBUJACEM.NS  APOLLOHOSP.NS  \\\n",
      "Date                                                                            \n",
      "2015-03-31       NaN          NaN            NaN           NaN            NaN   \n",
      "2015-04-30       NaN          NaN            NaN           NaN            NaN   \n",
      "2015-05-31       NaN          NaN            NaN           NaN            NaN   \n",
      "2015-06-30       NaN          NaN            NaN           NaN            NaN   \n",
      "2015-07-31       NaN          NaN            NaN           NaN            NaN   \n",
      "...              ...          ...            ...           ...            ...   \n",
      "2024-08-31  0.164550     0.248555       0.878639      0.444708       0.442514   \n",
      "2024-09-30  0.252639     0.299604       0.762605      0.493549       0.404646   \n",
      "2024-10-31  0.232402     0.284919       0.760884      0.371899       0.460578   \n",
      "2024-11-30  0.188394     0.044770       0.447796      0.213670       0.238131   \n",
      "2024-12-31 -0.069143    -0.112069       0.206992      0.031710       0.282263   \n",
      "\n",
      "            ASIANPAINT.NS  AUROPHARMA.NS  AXISBANK.NS  BAJAJ-AUTO.NS  \\\n",
      "Date                                                                   \n",
      "2015-03-31            NaN            NaN          NaN            NaN   \n",
      "2015-04-30            NaN            NaN          NaN            NaN   \n",
      "2015-05-31            NaN            NaN          NaN            NaN   \n",
      "2015-06-30            NaN            NaN          NaN            NaN   \n",
      "2015-07-31            NaN            NaN          NaN            NaN   \n",
      "...                   ...            ...          ...            ...   \n",
      "2024-08-31      -0.028726       0.899228     0.208174       1.379832   \n",
      "2024-09-30       0.065209       0.604612     0.189496       1.457944   \n",
      "2024-10-31      -0.008837       0.651198     0.181896       0.866042   \n",
      "2024-11-30      -0.196166       0.213981     0.058578       0.495279   \n",
      "2024-12-31      -0.321840       0.232865    -0.033365       0.304955   \n",
      "\n",
      "            BAJAJFINSV.NS  ...  TATASTEEL.NS    TCS.NS  TECHM.NS  TITAN.NS  \\\n",
      "Date                       ...                                               \n",
      "2015-03-31            NaN  ...           NaN       NaN       NaN       NaN   \n",
      "2015-04-30            NaN  ...           NaN       NaN       NaN       NaN   \n",
      "2015-05-31            NaN  ...           NaN       NaN       NaN       NaN   \n",
      "2015-06-30            NaN  ...           NaN       NaN       NaN       NaN   \n",
      "2015-07-31            NaN  ...           NaN       NaN       NaN       NaN   \n",
      "...                   ...  ...           ...       ...       ...       ...   \n",
      "2024-08-31       0.198317  ...      0.268005  0.376326  0.401712  0.152158   \n",
      "2024-09-30       0.282029  ...      0.333948  0.227299  0.327885  0.218389   \n",
      "2024-10-31       0.116151  ...      0.276237  0.194994  0.474643  0.027618   \n",
      "2024-11-30      -0.055305  ...      0.152871  0.242228  0.441245 -0.066169   \n",
      "2024-12-31      -0.069232  ...      0.008821  0.095009  0.377770 -0.112001   \n",
      "\n",
      "            ULTRACEMCO.NS    UPL.NS  VEDANTA.NS  WIPRO.NS  YESBANK.NS  \\\n",
      "Date                                                                    \n",
      "2015-03-31            NaN       NaN         NaN       NaN         NaN   \n",
      "2015-04-30            NaN       NaN         NaN       NaN         NaN   \n",
      "2015-05-31            NaN       NaN         NaN       NaN         NaN   \n",
      "2015-06-30            NaN       NaN         NaN       NaN         NaN   \n",
      "2015-07-31            NaN       NaN         NaN       NaN         NaN   \n",
      "...                   ...       ...         ...       ...         ...   \n",
      "2024-08-31       0.370171  0.013933         NaN  0.318315    0.405357   \n",
      "2024-09-30       0.438184 -0.003307         NaN  0.333457    0.303188   \n",
      "2024-10-31       0.321651  0.026104         NaN  0.445259    0.278997   \n",
      "2024-11-30       0.251557 -0.043294         NaN  0.398983    0.031524   \n",
      "2024-12-31       0.094359 -0.145393         NaN  0.280925   -0.086713   \n",
      "\n",
      "             ZEEL.NS  \n",
      "Date                  \n",
      "2015-03-31       NaN  \n",
      "2015-04-30       NaN  \n",
      "2015-05-31       NaN  \n",
      "2015-06-30       NaN  \n",
      "2015-07-31       NaN  \n",
      "...              ...  \n",
      "2024-08-31 -0.463082  \n",
      "2024-09-30 -0.479493  \n",
      "2024-10-31 -0.528742  \n",
      "2024-11-30 -0.485569  \n",
      "2024-12-31 -0.554900  \n",
      "\n",
      "[118 rows x 67 columns]\n"
     ]
    }
   ],
   "source": [
    "print(roc_12m)"
   ]
  },
  {
   "cell_type": "code",
   "execution_count": 21,
   "id": "fa3a7a21",
   "metadata": {},
   "outputs": [
    {
     "name": "stderr",
     "output_type": "stream",
     "text": [
      "100%|██████████| 106/106 [00:00<00:00, 1373.85it/s]\n"
     ]
    }
   ],
   "source": [
    "results = []\n",
    "\n",
    "for date, row in tqdm(df_month_end.iterrows(), total=len(df_month_end)):\n",
    "    constituents = row['Constituents']\n",
    "    \n",
    "    if date not in roc_12m.index:\n",
    "        continue\n",
    "\n",
    "    roc_values = roc_12m.loc[date, constituents].dropna()\n",
    "    top_10 = roc_values.sort_values(ascending=False).head(no_of_stocks)\n",
    "\n",
    "    for stock in top_10.index:\n",
    "        results.append({\n",
    "            'Date': date,\n",
    "            'Stock': stock,\n",
    "            'ROC_12M': top_10[stock]\n",
    "        })\n"
   ]
  },
  {
   "cell_type": "code",
   "execution_count": 22,
   "id": "63a2de71",
   "metadata": {},
   "outputs": [],
   "source": [
    "top10_momentum_df = pd.DataFrame(results)\n"
   ]
  },
  {
   "cell_type": "code",
   "execution_count": 23,
   "id": "868ef1aa",
   "metadata": {},
   "outputs": [
    {
     "name": "stdout",
     "output_type": "stream",
     "text": [
      "           Date          Stock   ROC_12M\n",
      "0    2016-04-30        ZEEL.NS  0.338055\n",
      "1    2016-04-30        BPCL.NS  0.337255\n",
      "2    2016-04-30  BAJAJ-AUTO.NS  0.333429\n",
      "3    2016-04-30   EICHERMOT.NS  0.326045\n",
      "4    2016-04-30  INDUSINDBK.NS  0.278560\n",
      "...         ...            ...       ...\n",
      "1045 2024-12-31       TECHM.NS  0.377770\n",
      "1046 2024-12-31     HCLTECH.NS  0.354663\n",
      "1047 2024-12-31   POWERGRID.NS  0.353345\n",
      "1048 2024-12-31        BPCL.NS  0.339477\n",
      "1049 2024-12-31  BAJAJ-AUTO.NS  0.304955\n",
      "\n",
      "[1050 rows x 3 columns]\n"
     ]
    }
   ],
   "source": [
    "print(top10_momentum_df)"
   ]
  },
  {
   "cell_type": "code",
   "execution_count": 24,
   "id": "6b886c82",
   "metadata": {},
   "outputs": [
    {
     "name": "stderr",
     "output_type": "stream",
     "text": [
      "C:\\Users\\LENOVO\\AppData\\Local\\Temp\\ipykernel_20124\\2694883313.py:1: FutureWarning: The default fill_method='pad' in DataFrame.pct_change is deprecated and will be removed in a future version. Either fill in any non-leading NA values prior to calling pct_change or specify 'fill_method=None' to not fill NA values.\n",
      "  returns = monthly_prices_df.pct_change()\n"
     ]
    }
   ],
   "source": [
    "returns = monthly_prices_df.pct_change()\n",
    "\n",
    "portfolio_returns = []\n",
    "\n",
    "for date in top10_momentum_df['Date'].unique():\n",
    "    stocks = top10_momentum_df[top10_momentum_df['Date'] == date]['Stock'].tolist()\n",
    "    next_month = date + pd.DateOffset(months=1)\n",
    "\n",
    "    if next_month not in returns.index:\n",
    "        continue\n",
    "    \n",
    "    # Equal-weighted average return\n",
    "    monthly_return = returns.loc[next_month, stocks].mean()\n",
    "    \n",
    "    portfolio_returns.append({\n",
    "        'Date': next_month,\n",
    "        'Return': monthly_return\n",
    "    })\n",
    "\n",
    "backtest_df = pd.DataFrame(portfolio_returns).set_index('Date')\n"
   ]
  },
  {
   "cell_type": "code",
   "execution_count": 25,
   "id": "95bb0710",
   "metadata": {},
   "outputs": [
    {
     "name": "stdout",
     "output_type": "stream",
     "text": [
      "              Return\n",
      "Date                \n",
      "2016-06-30  0.028822\n",
      "2016-08-31  0.062164\n",
      "2016-09-30 -0.015543\n",
      "2016-11-30 -0.023758\n",
      "2017-01-31  0.123460\n",
      "2017-02-28  0.004345\n",
      "2017-04-30  0.048048\n",
      "2017-06-30 -0.043584\n",
      "2017-08-31  0.055458\n",
      "2017-09-30 -0.015290\n",
      "2017-11-30 -0.012125\n",
      "2018-01-31  0.014938\n",
      "2018-02-28 -0.040944\n",
      "2018-04-30  0.070113\n",
      "2018-06-30  0.007492\n",
      "2018-08-31  0.036541\n",
      "2018-09-30 -0.035300\n",
      "2018-11-30  0.006447\n",
      "2019-01-31  0.024483\n",
      "2019-02-28  0.011267\n",
      "2019-04-30  0.037844\n",
      "2019-06-30  0.005183\n",
      "2019-08-31 -0.014969\n",
      "2019-09-30  0.091987\n",
      "2019-11-30  0.008106\n",
      "2020-01-31 -0.006001\n",
      "2020-02-29 -0.020542\n",
      "2020-04-30  0.116134\n",
      "2020-06-30  0.033802\n",
      "2020-08-31 -0.022468\n",
      "2020-09-30  0.050293\n",
      "2020-11-30  0.019485\n",
      "2021-01-31 -0.024518\n",
      "2021-02-28  0.023867\n",
      "2021-04-30  0.084436\n",
      "2021-06-30  0.015652\n",
      "2021-08-31  0.039909\n",
      "2021-09-30  0.019548\n",
      "2021-11-30 -0.062745\n",
      "2022-01-31 -0.029087\n",
      "2022-02-28  0.000257\n",
      "2022-04-30 -0.072554\n",
      "2022-06-30 -0.039483\n",
      "2022-08-31  0.069403\n",
      "2022-09-30 -0.044537\n",
      "2022-11-30 -0.016125\n",
      "2023-01-31 -0.000730\n",
      "2023-02-28 -0.027793\n",
      "2023-04-30  0.056422\n",
      "2023-06-30  0.058120\n",
      "2023-08-31 -0.020348\n",
      "2023-09-30  0.058801\n",
      "2023-11-30  0.085828\n",
      "2024-01-31  0.084026\n",
      "2024-02-29  0.048097\n",
      "2024-04-30  0.003985\n",
      "2024-06-30  0.048669\n",
      "2024-08-31  0.005039\n",
      "2024-09-30  0.012737\n",
      "2024-11-30 -0.026814\n"
     ]
    }
   ],
   "source": [
    "print(backtest_df)"
   ]
  },
  {
   "cell_type": "code",
   "execution_count": 26,
   "id": "3580feaa",
   "metadata": {},
   "outputs": [
    {
     "name": "stderr",
     "output_type": "stream",
     "text": [
      "[*********************100%***********************]  1 of 1 completed\n"
     ]
    }
   ],
   "source": [
    "nifty_data = yf.download(\"^NSEI\", start=\"2016-06-30\", end=\"2025-01-01\", interval='1d', auto_adjust=True)\n",
    "nifty_monthly = nifty_data['Close'].resample('ME').last()\n"
   ]
  },
  {
   "cell_type": "code",
   "execution_count": 27,
   "id": "6db5bc20",
   "metadata": {},
   "outputs": [],
   "source": [
    "nifty_returns = nifty_monthly.pct_change()\n",
    "nifty_cumulative = (1 + nifty_returns).cumprod()\n"
   ]
  },
  {
   "cell_type": "code",
   "execution_count": 28,
   "id": "d06663bb",
   "metadata": {},
   "outputs": [
    {
     "data": {
      "image/png": "[encoded data removed]",
      "text/plain": [
       "<Figure size 1000x500 with 1 Axes>"
      ]
     },
     "metadata": {},
     "output_type": "display_data"
    }
   ],
   "source": [
    "# # Cumulative returns\n",
    "backtest_df['Cumulative'] = (1 + backtest_df['Return']).cumprod()\n",
    "\n",
    "plt.figure(figsize=(10, 5))\n",
    "plt.plot(backtest_df.index, backtest_df['Cumulative'], label='Momentum Strategy (Top 10)', linewidth=2)\n",
    "plt.plot(nifty_cumulative.index, nifty_cumulative,label='Nifty 50',linestyle='--', linewidth=2)\n",
    "\n",
    "plt.title(\"12-Month Momentum Strategy vs Nifty 50\")\n",
    "plt.ylabel(\"Cumulative Return\")\n",
    "plt.xlabel(\"Date\")\n",
    "plt.legend()\n",
    "plt.grid(True)\n",
    "plt.tight_layout()\n",
    "plt.show()\n"
   ]
  },
  {
   "cell_type": "code",
   "execution_count": 29,
   "id": "08143c83",
   "metadata": {},
   "outputs": [],
   "source": [
    "cum = backtest_df['Cumulative']\n",
    "rets = backtest_df['Return']\n",
    "\n",
    "\n"
   ]
  },
  {
   "cell_type": "code",
   "execution_count": 30,
   "id": "3ed32b80",
   "metadata": {},
   "outputs": [],
   "source": [
    "cum_index = nifty_cumulative['^NSEI']\n",
    "rets_index = nifty_returns['^NSEI']\n",
    "\n"
   ]
  },
  {
   "cell_type": "code",
   "execution_count": 31,
   "id": "a079cc8a",
   "metadata": {},
   "outputs": [],
   "source": [
    "vol_12m = returns.rolling(window=12).std()\n"
   ]
  },
  {
   "cell_type": "code",
   "execution_count": 32,
   "id": "16915b6e",
   "metadata": {},
   "outputs": [
    {
     "name": "stderr",
     "output_type": "stream",
     "text": [
      "100%|██████████| 106/106 [00:00<00:00, 672.31it/s]\n"
     ]
    }
   ],
   "source": [
    "results = []\n",
    "\n",
    "for date, row in tqdm(df_month_end.iterrows(), total=len(df_month_end)):\n",
    "    constituents = row['Constituents']\n",
    "    \n",
    "    if date not in roc_12m.index:\n",
    "        continue\n",
    "\n",
    "    roc_values = roc_12m.loc[date, constituents].dropna()\n",
    "    vol_vals = vol_12m.loc[date, constituents].dropna()\n",
    "\n",
    "    score = roc_values / vol_vals\n",
    "\n",
    "    top_n = score.sort_values(ascending=False).head(no_of_stocks)\n",
    "    # top_10 = roc_values.sort_values(ascending=False).head(no_of_stocks)\n",
    "\n",
    "    for stock in top_10.index:\n",
    "        results.append({\n",
    "            'Date': date,\n",
    "            'Stock': stock,\n",
    "            'ROC_12M': top_10[stock]\n",
    "        })\n"
   ]
  },
  {
   "cell_type": "code",
   "execution_count": 33,
   "id": "555556da",
   "metadata": {},
   "outputs": [],
   "source": [
    "top10_volatility_df = pd.DataFrame(results)"
   ]
  },
  {
   "cell_type": "code",
   "execution_count": 34,
   "id": "f14ada36",
   "metadata": {},
   "outputs": [
    {
     "name": "stderr",
     "output_type": "stream",
     "text": [
      "C:\\Users\\LENOVO\\AppData\\Local\\Temp\\ipykernel_20124\\1661814228.py:1: FutureWarning: The default fill_method='pad' in DataFrame.pct_change is deprecated and will be removed in a future version. Either fill in any non-leading NA values prior to calling pct_change or specify 'fill_method=None' to not fill NA values.\n",
      "  returns = monthly_prices_df.pct_change()\n"
     ]
    }
   ],
   "source": [
    "returns = monthly_prices_df.pct_change()\n",
    "\n",
    "portfolio_returns = []\n",
    "\n",
    "for date in top10_volatility_df['Date'].unique():\n",
    "    stocks = top10_volatility_df[top10_volatility_df['Date'] == date]['Stock'].tolist()\n",
    "    next_month = date + pd.DateOffset(months=1)\n",
    "\n",
    "    if next_month not in returns.index:\n",
    "        continue\n",
    "    \n",
    "    # Equal-weighted average return\n",
    "    monthly_return = returns.loc[next_month, stocks].mean()\n",
    "    \n",
    "    portfolio_returns.append({\n",
    "        'Date': next_month,\n",
    "        'Return': monthly_return\n",
    "    })\n",
    "\n",
    "vol_df = pd.DataFrame(portfolio_returns).set_index('Date')\n"
   ]
  },
  {
   "cell_type": "code",
   "execution_count": 35,
   "id": "e9f938ba",
   "metadata": {},
   "outputs": [
    {
     "data": {
      "image/png": "[encoded data removed]",
      "text/plain": [
       "<Figure size 1000x500 with 1 Axes>"
      ]
     },
     "metadata": {},
     "output_type": "display_data"
    }
   ],
   "source": [
    "# # Cumulative returns\n",
    "vol_df['Cumulative'] = (1 + vol_df['Return']).cumprod()\n",
    "\n",
    "\n",
    "plt.figure(figsize=(10, 5))\n",
    "plt.plot(vol_df.index, vol_df['Cumulative'], label='Volatility Adjusted Strategy (Top 10)', linewidth=2)\n",
    "plt.plot(nifty_cumulative.index, nifty_cumulative,label='Nifty 50',linestyle='--', linewidth=2)\n",
    "\n",
    "plt.title(\"12-Month Momentum Strategy vs Nifty 50\")\n",
    "plt.ylabel(\"Cumulative Return\")\n",
    "plt.xlabel(\"Date\")\n",
    "plt.legend()\n",
    "plt.grid(True)\n",
    "plt.tight_layout()\n",
    "plt.show()\n"
   ]
  },
  {
   "cell_type": "code",
   "execution_count": 36,
   "id": "274174a5",
   "metadata": {},
   "outputs": [],
   "source": [
    "cum_vol = vol_df['Cumulative']\n",
    "rets_vol = vol_df['Return']\n",
    "\n",
    "\n"
   ]
  },
  {
   "cell_type": "code",
   "execution_count": 37,
   "id": "ae1fd4e9",
   "metadata": {},
   "outputs": [
    {
     "name": "stdout",
     "output_type": "stream",
     "text": [
      "CAGR\n",
      "Index: 0.13120385807726387\n",
      "Price Momentum: 0.11207387781756273\n",
      "Volatility Adjusted: 0.15808493772852072\n"
     ]
    }
   ],
   "source": [
    "print(\"CAGR\")\n",
    "print(\"Index:\", calculate_cagr(cum_index))\n",
    "print(\"Price Momentum:\", calculate_cagr(cum))\n",
    "print(\"Volatility Adjusted:\", calculate_cagr(cum_vol))"
   ]
  },
  {
   "cell_type": "code",
   "execution_count": 38,
   "id": "b4838ccd",
   "metadata": {},
   "outputs": [
    {
     "name": "stdout",
     "output_type": "stream",
     "text": [
      "Max Drawdown\n",
      "Index: 0.29343919217321507\n",
      "Price Momentum: 0.2080821804554138\n",
      "Volatility Adjusted: 0.08963894496702346\n"
     ]
    }
   ],
   "source": [
    "print(\"Max Drawdown\")\n",
    "print(\"Index:\", max_drawdown(cum_index))\n",
    "print(\"Price Momentum:\", max_drawdown(cum))\n",
    "print(\"Volatility Adjusted:\", max_drawdown(cum_vol))\n"
   ]
  },
  {
   "cell_type": "code",
   "execution_count": 39,
   "id": "229f8d9b",
   "metadata": {},
   "outputs": [
    {
     "name": "stdout",
     "output_type": "stream",
     "text": [
      "Annual Volatility\n",
      "Price Momentum: 0.15130131784613118\n",
      "Volatility Adjusted: 0.1574665610514361\n",
      "Index: 0.16314954022098482\n"
     ]
    }
   ],
   "source": [
    "\n",
    "print(\"Annual Volatility\")\n",
    "print(\"Price Momentum:\", annual_volatility(rets))\n",
    "print(\"Volatility Adjusted:\", annual_volatility(rets_vol))\n",
    "print(\"Index:\", annual_volatility(rets_index))\n"
   ]
  },
  {
   "cell_type": "code",
   "execution_count": 40,
   "id": "86999b04",
   "metadata": {},
   "outputs": [
    {
     "name": "stdout",
     "output_type": "stream",
     "text": [
      "Sharpe Ratio\n",
      "Volatility Adjusted: 1.3419815181012473\n",
      "Price Momentum: 0.933164802294596\n",
      "Index: 0.5366842684930829\n"
     ]
    }
   ],
   "source": [
    "\n",
    "print(\"Sharpe Ratio\")\n",
    "print(\"Volatility Adjusted:\", sharpe_ratio(rets_vol))\n",
    "print(\"Price Momentum:\", sharpe_ratio(rets))\n",
    "print(\"Index:\", sharpe_ratio(rets_index))\n"
   ]
  },
  {
   "cell_type": "code",
   "execution_count": 41,
   "id": "283d7db9",
   "metadata": {},
   "outputs": [
    {
     "name": "stdout",
     "output_type": "stream",
     "text": [
      "Sortino Ratio\n",
      "Price Momentum: 2.183682111647904\n",
      "Volatility Adjusted: 3.7124433942679858\n",
      "Index: 0.6909522691555738\n"
     ]
    }
   ],
   "source": [
    "\n",
    "print(\"Sortino Ratio\")\n",
    "print(\"Price Momentum:\", sortino_ratio(rets))\n",
    "print(\"Volatility Adjusted:\", sortino_ratio(rets_vol))\n",
    "print(\"Index:\", sortino_ratio(rets_index))\n"
   ]
  },
  {
   "cell_type": "code",
   "execution_count": 42,
   "id": "35bcd30b",
   "metadata": {},
   "outputs": [
    {
     "name": "stdout",
     "output_type": "stream",
     "text": [
      "Calmar Ratio\n",
      "Price Momentum: 0.5386039187607274\n",
      "Volatility Adjusted: 1.763574278865925\n",
      "Index: 0.44712452043493617\n"
     ]
    }
   ],
   "source": [
    "\n",
    "print(\"Calmar Ratio\")\n",
    "print(\"Price Momentum:\", calmar_ratio(cum))\n",
    "print(\"Volatility Adjusted:\", calmar_ratio(cum_vol))\n",
    "print(\"Index:\", calmar_ratio(cum_index))"
   ]
  }
 ],
 "metadata": {
  "kernelspec": {
   "display_name": "venv",
   "language": "python",
   "name": "python3"
  },
  "language_info": {
   "codemirror_mode": {
    "name": "ipython",
    "version": 3
   },
   "file_extension": ".py",
   "mimetype": "text/x-python",
   "name": "python",
   "nbconvert_exporter": "python",
   "pygments_lexer": "ipython3",
   "version": "3.11.7"
  }
 },
 "nbformat": 4,
 "nbformat_minor": 5
}
